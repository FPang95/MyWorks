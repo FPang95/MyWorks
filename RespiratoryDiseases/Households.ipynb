{
 "cells": [
  {
   "cell_type": "code",
   "execution_count": 2,
   "metadata": {},
   "outputs": [
    {
     "name": "stdout",
     "output_type": "stream",
     "text": [
      "Index(['REF_DATE', 'GEO', 'DGUID', 'Diseases', 'Sex', 'Age group',\n",
      "       'Categories', 'Characteristics', 'UOM', 'VALUE'],\n",
      "      dtype='object')\n",
      "   REF_DATE     GEO           DGUID      Diseases         Sex     Age group  \\\n",
      "0      2009  Canada  2016A000011124  Hypertension  Both sexes  Ages 6 to 79   \n",
      "1      2009  Canada  2016A000011124  Hypertension  Both sexes  Ages 6 to 79   \n",
      "2      2009  Canada  2016A000011124  Hypertension  Both sexes  Ages 6 to 79   \n",
      "3      2009  Canada  2016A000011124  Hypertension  Both sexes  Ages 6 to 79   \n",
      "4      2009  Canada  2016A000011124  Hypertension  Both sexes  Ages 6 to 79   \n",
      "\n",
      "                    Categories                         Characteristics  \\\n",
      "0  Presence of Chronic Disease                                Estimate   \n",
      "1  Presence of Chronic Disease   Low 95% confidence interval, estimate   \n",
      "2  Presence of Chronic Disease  High 95% confidence interval, estimate   \n",
      "3   Absence of Chronic Disease                                Estimate   \n",
      "4   Absence of Chronic Disease   Low 95% confidence interval, estimate   \n",
      "\n",
      "          UOM  VALUE  \n",
      "0  Percentage   16.0  \n",
      "1  Percentage   14.9  \n",
      "2  Percentage   17.2  \n",
      "3  Percentage   84.0  \n",
      "4  Percentage   82.8  \n"
     ]
    }
   ],
   "source": [
    "import pandas as pd\n",
    "import matplotlib.pyplot as plt\n",
    "\n",
    "df = pd.read_csv(\"CD_Household.csv\")\n",
    "\n",
    "print(df.columns)\n",
    "print(df.head())"
   ]
  },
  {
   "cell_type": "code",
   "execution_count": null,
   "metadata": {},
   "outputs": [],
   "source": []
  }
 ],
 "metadata": {
  "kernelspec": {
   "display_name": "Python 3",
   "language": "python",
   "name": "python3"
  },
  "language_info": {
   "codemirror_mode": {
    "name": "ipython",
    "version": 3
   },
   "file_extension": ".py",
   "mimetype": "text/x-python",
   "name": "python",
   "nbconvert_exporter": "python",
   "pygments_lexer": "ipython3",
   "version": "3.7.3"
  }
 },
 "nbformat": 4,
 "nbformat_minor": 2
}
