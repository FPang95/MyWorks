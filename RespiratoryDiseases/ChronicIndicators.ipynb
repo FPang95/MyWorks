{
 "cells": [
  {
   "cell_type": "code",
   "execution_count": 1,
   "metadata": {},
   "outputs": [
    {
     "name": "stdout",
     "output_type": "stream",
     "text": [
      "                                  Domain      Indicator Group  \\\n",
      "0  Social and Environmental Determinants            Education   \n",
      "1  Social and Environmental Determinants              Income    \n",
      "2  Social and Environmental Determinants    Childhood poverty   \n",
      "3  Social and Environmental Determinants           Employment   \n",
      "4  Social and Environmental Determinants  Community belonging   \n",
      "\n",
      "                                             Measure  Latest Data [a] Unit  \\\n",
      "0  % of population that reports having less than ...             12.2    %   \n",
      "1  % of population living below low-income cut-of...              8.1    %   \n",
      "2  % of children living below low-income cut-offs...              7.3    %   \n",
      "3  Average annual unemployment rate (% of labour ...              6.3    %   \n",
      "4  % of population that reports a \"very strong\" o...             68.8    %   \n",
      "\n",
      "   Lower 95% CI  Upper 95% CI                                   Data Source  \n",
      "0          11.8          12.7  Canadian Community Health Survey (CCHS) 2016  \n",
      "1           NaN           NaN             Canadian Income Survey (CIS) 2016  \n",
      "2           NaN           NaN             Canadian Income Survey (CIS) 2016  \n",
      "3           NaN           NaN                Labour Force Survey (LFS) 2017  \n",
      "4          68.1          69.4  Canadian Community Health Survey (CCHS) 2016  \n"
     ]
    }
   ],
   "source": [
    "import pandas as pd\n",
    "import matplotlib.pyplot as plt\n",
    "\n",
    "df = pd.read_csv(\"CCDI2018.csv\")\n",
    "\n",
    "print(df.head())"
   ]
  },
  {
   "cell_type": "code",
   "execution_count": 2,
   "metadata": {},
   "outputs": [
    {
     "name": "stdout",
     "output_type": "stream",
     "text": [
      "1: Social and Environmental Determinants\n",
      "2: Maternal and Child Health Risk and Protective Factors\n",
      "3: Behavioural Risk and Protective Factors\n",
      "4: Risk Conditions\n",
      "5: Disease Prevention Practices\n",
      "6: Health Outcomes/Status\n",
      "Domain\n",
      "Behavioural Risk and Protective Factors                  28.700000\n",
      "Disease Prevention Practices                             69.133333\n",
      "Health Outcomes/Status                                   16.996000\n",
      "Maternal and Child Health Risk and Protective Factors    27.650000\n",
      "Risk Conditions                                          17.880000\n",
      "Social and Environmental Determinants                    20.540000\n",
      "Name: Latest Data [a], dtype: float64\n"
     ]
    },
    {
     "data": {
      "image/png": "[encoded data removed]",
      "text/plain": [
       "<Figure size 432x288 with 1 Axes>"
      ]
     },
     "metadata": {
      "needs_background": "light"
     },
     "output_type": "display_data"
    }
   ],
   "source": [
    "percent_only = df.loc[df[\"Unit\"] == \"%\"]\n",
    "\n",
    "for domains in list(percent_only[\"Domain\"].unique()):\n",
    "    print(str(list(percent_only[\"Domain\"].unique()).index(domains)+1) + \": \" + domains)\n",
    "\n",
    "print(percent_only.groupby([\"Domain\"]).mean()[\"Latest Data [a]\"])\n",
    "\n",
    "ticks = range(1, len(percent_only.groupby([\"Domain\"]))+1)\n",
    "height = list(percent_only.groupby([\"Domain\"]).mean()[\"Latest Data [a]\"])\n",
    "tick_label = range(1, len(percent_only[\"Domain\"].unique())+1)\n",
    "plt.bar(ticks, height, tick_label=tick_label, width=0.6)\n",
    "plt.title(\"Chronic disease indicators\")\n",
    "plt.ylabel(\"Percentage\")\n",
    "plt.show()"
   ]
  },
  {
   "cell_type": "code",
   "execution_count": null,
   "metadata": {},
   "outputs": [],
   "source": []
  }
 ],
 "metadata": {
  "kernelspec": {
   "display_name": "Python 3",
   "language": "python",
   "name": "python3"
  },
  "language_info": {
   "codemirror_mode": {
    "name": "ipython",
    "version": 3
   },
   "file_extension": ".py",
   "mimetype": "text/x-python",
   "name": "python",
   "nbconvert_exporter": "python",
   "pygments_lexer": "ipython3",
   "version": "3.7.3"
  }
 },
 "nbformat": 4,
 "nbformat_minor": 2
}
