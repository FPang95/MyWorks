{
 "cells": [
  {
   "cell_type": "code",
   "execution_count": 5,
   "metadata": {},
   "outputs": [],
   "source": [
    "import pandas as pd\n",
    "import numpy as np\n",
    "import matplotlib.pyplot as plt\n",
    "from matplotlib import rcParams\n",
    "import seaborn as sb\n",
    "\n",
    "%matplotlib inline\n",
    "rcParams['figure.figsize'] = 8, 4\n",
    "sb.set_style('whitegrid')"
   ]
  },
  {
   "cell_type": "code",
   "execution_count": 2,
   "metadata": {
    "scrolled": true
   },
   "outputs": [
    {
     "name": "stdout",
     "output_type": "stream",
     "text": [
      "Index(['Tier', 'My Team/Pokemon Revealed', 'Opponent's Team/Pokemon Revealed',\n",
      "       'Win/Loss', 'Own Pokemon Down', 'Opponent Pokemon Down', 'Moves used',\n",
      "       'Super effective', 'Not very effective', 'Total Moves',\n",
      "       'Attacking Moves', 'Status Moves', 'Turns', 'Rank'],\n",
      "      dtype='object')\n"
     ]
    }
   ],
   "source": [
    "df = pd.read_csv(\"Poke_log.csv\")\n",
    "print(df.columns)"
   ]
  },
  {
   "cell_type": "code",
   "execution_count": 18,
   "metadata": {},
   "outputs": [
    {
     "name": "stdout",
     "output_type": "stream",
     "text": [
      "Tier                           Win/Loss\n",
      "[Gen 7] NU                     Loss        23.000000\n",
      "                               Win         21.000000\n",
      "[Gen 7] PU                     Loss        25.000000\n",
      "                               Win         15.846154\n",
      "[Gen 7] RU                     Loss        16.000000\n",
      "                               Win         19.285714\n",
      "[Gen 7] Random Battle          Loss        19.000000\n",
      "                               Win         17.903226\n",
      "[Gen 7] UU                     Win         17.000000\n",
      "[Gen 7] Unrated Random Battle  Loss        21.444444\n",
      "                               Win         20.514286\n",
      "Name: Turns, dtype: float64\n"
     ]
    }
   ],
   "source": [
    "#Stats separated by tiers and win/loss\n",
    "turns = df.groupby([\"Tier\", \"Win/Loss\"]).mean()[\"Turns\"]\n",
    "print(turns)"
   ]
  },
  {
   "cell_type": "code",
   "execution_count": 25,
   "metadata": {},
   "outputs": [
    {
     "data": {
      "text/plain": [
       "Text(0, 0.5, 'Turns')"
      ]
     },
     "execution_count": 25,
     "metadata": {},
     "output_type": "execute_result"
    },
    {
     "data": {
      "image/png": "[encoded data removed]",
      "text/plain": [
       "<Figure size 576x288 with 1 Axes>"
      ]
     },
     "metadata": {},
     "output_type": "display_data"
    }
   ],
   "source": [
    "fig = plt.figure()\n",
    "ax = fig.add_axes([.1, .1, 1, 1])\n",
    "turns.plot(kind='bar')\n",
    "\n",
    "ax.set_title('Turns taken in each tier')\n",
    "ax.set_xticks(range(len(turns)))\n",
    "ax.set_ylim([12,28])\n",
    "#ax.set_xticklabels([\"NU Loss\", \"NU Win\", \"PU Loss\", \"PU Win\", \"RU Loss\", \"RU Win\"], rotation=60, fontsize='medium')\n",
    "ax.set_xlabel('')\n",
    "ax.set_ylabel('Turns')"
   ]
  },
  {
   "cell_type": "code",
   "execution_count": 27,
   "metadata": {},
   "outputs": [],
   "source": [
    "#Grabs pokemon used by myself and oppoenent\n",
    "myteamlist = []\n",
    "for team in df['My Team/Pokemon Revealed']:\n",
    "    pokes = team.split(\"|\")\n",
    "    for poke in pokes:\n",
    "        myteamlist.append(poke)\n",
    "\n",
    "myteamdict={x:myteamlist.count(x) for x in myteamlist}\n",
    "\n",
    "opteamlist = []\n",
    "for team in df[\"Opponent's Team/Pokemon Revealed\"]:\n",
    "    pokes = team.split(\"|\")\n",
    "    for poke in pokes:\n",
    "        opteamlist.append(poke)\n",
    "\n",
    "opteamdict={x:opteamlist.count(x) for x in opteamlist}"
   ]
  },
  {
   "cell_type": "code",
   "execution_count": 28,
   "metadata": {},
   "outputs": [
    {
     "data": {
      "text/plain": [
       "mine        2.897375\n",
       "opponent    2.946903\n",
       "dtype: float64"
      ]
     },
     "execution_count": 28,
     "metadata": {},
     "output_type": "execute_result"
    }
   ],
   "source": [
    "#Gives a total count of each pokemon that's been used so far\n",
    "total_dict = {\"mine\":myteamdict, \"opponent\":opteamdict}\n",
    "newdf = pd.DataFrame(total_dict, dtype=int)\n",
    "newdf.mean()"
   ]
  },
  {
   "cell_type": "code",
   "execution_count": null,
   "metadata": {},
   "outputs": [],
   "source": []
  },
  {
   "cell_type": "code",
   "execution_count": null,
   "metadata": {},
   "outputs": [],
   "source": []
  },
  {
   "cell_type": "code",
   "execution_count": null,
   "metadata": {},
   "outputs": [],
   "source": []
  }
 ],
 "metadata": {
  "celltoolbar": "Raw Cell Format",
  "kernelspec": {
   "display_name": "Python 3",
   "language": "python",
   "name": "python3"
  },
  "language_info": {
   "codemirror_mode": {
    "name": "ipython",
    "version": 3
   },
   "file_extension": ".py",
   "mimetype": "text/x-python",
   "name": "python",
   "nbconvert_exporter": "python",
   "pygments_lexer": "ipython3",
   "version": "3.7.3"
  }
 },
 "nbformat": 4,
 "nbformat_minor": 1
}
