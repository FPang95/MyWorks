{
 "cells": [
  {
   "cell_type": "code",
   "execution_count": null,
   "metadata": {},
   "outputs": [],
   "source": [
    "import pandas as pd\n",
    "import numpy as np\n",
    "import matplotlib.pyplot as plt"
   ]
  },
  {
   "cell_type": "code",
   "execution_count": null,
   "metadata": {},
   "outputs": [],
   "source": [
    "df = pd.read_csv(\"Poke_log.csv\")\n",
    "print(df.columns)"
   ]
  },
  {
   "cell_type": "code",
   "execution_count": null,
   "metadata": {},
   "outputs": [],
   "source": [
    "#Stats separated by tiers and win/loss\n",
    "print(df.groupby([\"Tier\", \"Win/Loss\"]).mean())"
   ]
  },
  {
   "cell_type": "code",
   "execution_count": null,
   "metadata": {},
   "outputs": [],
   "source": [
    "#Grabs pokemon used by myself and oppoenent\n",
    "myteamlist = []\n",
    "for team in df['My Team/Pokemon Revealed']:\n",
    "    pokes = team.split(\"|\")\n",
    "    for poke in pokes:\n",
    "        myteamlist.append(poke)\n",
    "\n",
    "myteamdict={x:myteamlist.count(x) for x in myteamlist}\n",
    "\n",
    "opteamlist = []\n",
    "for team in df[\"Opponent's Team/Pokemon Revealed\"]:\n",
    "    pokes = team.split(\"|\")\n",
    "    for poke in pokes:\n",
    "        opteamlist.append(poke)\n",
    "\n",
    "opteamdict={x:opteamlist.count(x) for x in opteamlist}"
   ]
  },
  {
   "cell_type": "code",
   "execution_count": null,
   "metadata": {},
   "outputs": [],
   "source": [
    "#Gives a total count of each pokemon that's been used so far\n",
    "total_dict = {\"mine\":myteamdict, \"opponent\":opteamdict}\n",
    "newdf = pd.DataFrame(total_dict, dtype=int)\n",
    "print(newdf)"
   ]
  },
  {
   "cell_type": "code",
   "execution_count": null,
   "metadata": {},
   "outputs": [],
   "source": []
  }
 ],
 "metadata": {
  "kernelspec": {
   "display_name": "Python 3",
   "language": "python",
   "name": "python3"
  },
  "language_info": {
   "codemirror_mode": {
    "name": "ipython",
    "version": 3
   },
   "file_extension": ".py",
   "mimetype": "text/x-python",
   "name": "python",
   "nbconvert_exporter": "python",
   "pygments_lexer": "ipython3",
   "version": "3.7.3"
  }
 },
 "nbformat": 4,
 "nbformat_minor": 1
}
