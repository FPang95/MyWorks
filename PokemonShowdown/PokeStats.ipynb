{
 "cells": [
  {
   "cell_type": "code",
   "execution_count": 6,
   "metadata": {},
   "outputs": [],
   "source": [
    "import pandas as pd\n",
    "import numpy as np\n",
    "import matplotlib.pyplot as plt"
   ]
  },
  {
   "cell_type": "code",
   "execution_count": 7,
   "metadata": {},
   "outputs": [
    {
     "name": "stdout",
     "output_type": "stream",
     "text": [
      "Index(['Tier', 'My Team/Pokemon Revealed', 'Opponent's Team/Pokemon Revealed',\n",
      "       'Win/Loss', 'Own Pokemon Down', 'Opponent Pokemon Down', 'Moves used',\n",
      "       'Super effective', 'Not very effective', 'Total Moves',\n",
      "       'Attacking Moves', 'Status Moves', 'Turns', 'Rank'],\n",
      "      dtype='object')\n"
     ]
    }
   ],
   "source": [
    "df = pd.read_csv(\"Poke_log.csv\")\n",
    "print(df.columns)"
   ]
  },
  {
   "cell_type": "code",
   "execution_count": 8,
   "metadata": {},
   "outputs": [
    {
     "name": "stdout",
     "output_type": "stream",
     "text": [
      "                                        Own Pokemon Down  \\\n",
      "Tier                          Win/Loss                     \n",
      "[Gen 7] NU                    Win               1.666667   \n",
      "[Gen 7] PU                    Loss              6.000000   \n",
      "                              Win               1.000000   \n",
      "[Gen 7] RU                    Win               2.416667   \n",
      "[Gen 7] Random Battle         Loss              4.500000   \n",
      "                              Win               2.212766   \n",
      "[Gen 7] UU                    Win               1.000000   \n",
      "[Gen 7] Unrated Random Battle Loss              4.812500   \n",
      "                              Win               2.418605   \n",
      "\n",
      "                                        Opponent Pokemon Down  \\\n",
      "Tier                          Win/Loss                          \n",
      "[Gen 7] NU                    Win                    3.583333   \n",
      "[Gen 7] PU                    Loss                   4.000000   \n",
      "                              Win                    5.000000   \n",
      "[Gen 7] RU                    Win                    5.000000   \n",
      "[Gen 7] Random Battle         Loss                   3.666667   \n",
      "                              Win                    4.361702   \n",
      "[Gen 7] UU                    Win                    2.000000   \n",
      "[Gen 7] Unrated Random Battle Loss                   3.812500   \n",
      "                              Win                    4.779070   \n",
      "\n",
      "                                        Super effective  Not very effective  \\\n",
      "Tier                          Win/Loss                                        \n",
      "[Gen 7] NU                    Win              4.916667            3.250000   \n",
      "[Gen 7] PU                    Loss             4.500000            2.500000   \n",
      "                              Win              4.500000            1.500000   \n",
      "[Gen 7] RU                    Win              5.916667            2.500000   \n",
      "[Gen 7] Random Battle         Loss             6.000000            2.500000   \n",
      "                              Win              4.851064            2.489362   \n",
      "[Gen 7] UU                    Win              4.500000            5.000000   \n",
      "[Gen 7] Unrated Random Battle Loss             7.437500            2.562500   \n",
      "                              Win              5.895349            3.720930   \n",
      "\n",
      "                                        Total Moves  Attacking Moves  \\\n",
      "Tier                          Win/Loss                                 \n",
      "[Gen 7] NU                    Win         32.083333        20.416667   \n",
      "[Gen 7] PU                    Loss        39.500000        27.000000   \n",
      "                              Win         24.750000        15.625000   \n",
      "[Gen 7] RU                    Win         26.333333        20.666667   \n",
      "[Gen 7] Random Battle         Loss        28.333333        22.000000   \n",
      "                              Win         24.127660        18.297872   \n",
      "[Gen 7] UU                    Win         25.500000        21.500000   \n",
      "[Gen 7] Unrated Random Battle Loss        32.250000        24.437500   \n",
      "                              Win         28.953488        21.860465   \n",
      "\n",
      "                                        Status Moves      Turns  \n",
      "Tier                          Win/Loss                           \n",
      "[Gen 7] NU                    Win          11.666667  22.833333  \n",
      "[Gen 7] PU                    Loss         12.500000  25.000000  \n",
      "                              Win           9.125000  14.875000  \n",
      "[Gen 7] RU                    Win           5.666667  19.416667  \n",
      "[Gen 7] Random Battle         Loss          6.333333  19.000000  \n",
      "                              Win           5.829787  16.723404  \n",
      "[Gen 7] UU                    Win           4.000000  17.000000  \n",
      "[Gen 7] Unrated Random Battle Loss          7.812500  21.562500  \n",
      "                              Win           7.093023  20.186047  \n"
     ]
    }
   ],
   "source": [
    "#Stats separated by tiers and win/loss\n",
    "print(df.groupby([\"Tier\", \"Win/Loss\"]).mean())"
   ]
  },
  {
   "cell_type": "code",
   "execution_count": 9,
   "metadata": {},
   "outputs": [],
   "source": [
    "#Grabs pokemon used by myself and oppoenent\n",
    "myteamlist = []\n",
    "for team in df['My Team/Pokemon Revealed']:\n",
    "    pokes = team.split(\"|\")\n",
    "    for poke in pokes:\n",
    "        myteamlist.append(poke)\n",
    "\n",
    "myteamdict={x:myteamlist.count(x) for x in myteamlist}\n",
    "\n",
    "opteamlist = []\n",
    "for team in df[\"Opponent's Team/Pokemon Revealed\"]:\n",
    "    pokes = team.split(\"|\")\n",
    "    for poke in pokes:\n",
    "        opteamlist.append(poke)\n",
    "\n",
    "opteamdict={x:opteamlist.count(x) for x in opteamlist}"
   ]
  },
  {
   "cell_type": "code",
   "execution_count": 10,
   "metadata": {},
   "outputs": [
    {
     "name": "stdout",
     "output_type": "stream",
     "text": [
      "                 mine  opponent\n",
      "Abomasnow         1.0       1.0\n",
      "Abomasnow-Mega    NaN       1.0\n",
      "Absol             8.0       3.0\n",
      "Absol-Mega        1.0       NaN\n",
      "Accelgor          1.0       2.0\n",
      "Aegislash         1.0       6.0\n",
      "Aerodactyl        6.0       5.0\n",
      "Aerodactyl-Mega   1.0       NaN\n",
      "Aggron            3.0       3.0\n",
      "Aggron-Mega       1.0       1.0\n",
      "Alakazam          1.0       NaN\n",
      "Alomomola         1.0       3.0\n",
      "Ambipom           4.0       2.0\n",
      "Amoonguss         NaN       2.0\n",
      "Ampharos          2.0       3.0\n",
      "Ampharos-Mega     NaN       1.0\n",
      "Araquanid         3.0       5.0\n",
      "Arbok             NaN       1.0\n",
      "Arcanine          5.0       2.0\n",
      "Arceus-Electric   NaN       1.0\n",
      "Arceus-Fairy      1.0       NaN\n",
      "Archeops          5.0       1.0\n",
      "Ariados           1.0       2.0\n",
      "Armaldo           2.0       1.0\n",
      "Aromatisse        3.0       3.0\n",
      "Articuno          3.0       6.0\n",
      "Audino            NaN       4.0\n",
      "Audino-Mega       NaN       1.0\n",
      "Aurorus           2.0       2.0\n",
      "Avalugg           1.0       NaN\n",
      "...               ...       ...\n",
      "Vigoroth          NaN       1.0\n",
      "Vikavolt          2.0       4.0\n",
      "Vileplume         2.0       4.0\n",
      "Virizion          3.0       2.0\n",
      "Vivillon          4.0       2.0\n",
      "Volbeat           2.0       NaN\n",
      "Volcanion         2.0       4.0\n",
      "Volcarona         2.0       5.0\n",
      "Wailord           1.0       NaN\n",
      "Walrein           NaN       1.0\n",
      "Watchog           1.0       NaN\n",
      "Weavile           1.0       4.0\n",
      "Weezing          12.0       6.0\n",
      "Whimsicott        8.0       3.0\n",
      "Whiscash          1.0       NaN\n",
      "Wigglytuff        NaN       2.0\n",
      "Wishiwashi        1.0       1.0\n",
      "Wobbuffet         1.0       2.0\n",
      "Wormadam          NaN       2.0\n",
      "Xatu              2.0       3.0\n",
      "Xerneas           1.0       2.0\n",
      "Xurkitree         4.0       2.0\n",
      "Yanmega           2.0       1.0\n",
      "Yveltal           1.0       1.0\n",
      "Zangoose          1.0       1.0\n",
      "Zapdos            2.0       3.0\n",
      "Zekrom            1.0       4.0\n",
      "Zeraora           3.0       1.0\n",
      "Zygarde           1.0       2.0\n",
      "Zygarde-10%       2.0       1.0\n",
      "\n",
      "[495 rows x 2 columns]\n"
     ]
    }
   ],
   "source": [
    "#Gives a total count of each pokemon that's been used so far\n",
    "total_dict = {\"mine\":myteamdict, \"opponent\":opteamdict}\n",
    "newdf = pd.DataFrame(total_dict, dtype=int)\n",
    "print(newdf)"
   ]
  },
  {
   "cell_type": "code",
   "execution_count": null,
   "metadata": {},
   "outputs": [],
   "source": []
  }
 ],
 "metadata": {
  "kernelspec": {
   "display_name": "Python 3",
   "language": "python",
   "name": "python3"
  },
  "language_info": {
   "codemirror_mode": {
    "name": "ipython",
    "version": 3
   },
   "file_extension": ".py",
   "mimetype": "text/x-python",
   "name": "python",
   "nbconvert_exporter": "python",
   "pygments_lexer": "ipython3",
   "version": "3.7.3"
  }
 },
 "nbformat": 4,
 "nbformat_minor": 1
}
