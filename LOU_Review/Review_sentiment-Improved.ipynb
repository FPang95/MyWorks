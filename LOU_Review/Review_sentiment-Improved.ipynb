{
 "cells": [
  {
   "cell_type": "code",
   "execution_count": 183,
   "metadata": {},
   "outputs": [],
   "source": [
    "import pandas as pd\n",
    "import numpy as np"
   ]
  },
  {
   "cell_type": "code",
   "execution_count": 184,
   "metadata": {},
   "outputs": [
    {
     "data": {
      "text/html": [
       "<div>\n",
       "<style scoped>\n",
       "    .dataframe tbody tr th:only-of-type {\n",
       "        vertical-align: middle;\n",
       "    }\n",
       "\n",
       "    .dataframe tbody tr th {\n",
       "        vertical-align: top;\n",
       "    }\n",
       "\n",
       "    .dataframe thead th {\n",
       "        text-align: right;\n",
       "    }\n",
       "</style>\n",
       "<table border=\"1\" class=\"dataframe\">\n",
       "  <thead>\n",
       "    <tr style=\"text-align: right;\">\n",
       "      <th></th>\n",
       "      <th>id</th>\n",
       "      <th>review</th>\n",
       "      <th>type_review</th>\n",
       "      <th>date</th>\n",
       "      <th>language</th>\n",
       "      <th>views</th>\n",
       "      <th>votes</th>\n",
       "      <th>score</th>\n",
       "    </tr>\n",
       "  </thead>\n",
       "  <tbody>\n",
       "    <tr>\n",
       "      <th>0</th>\n",
       "      <td>Maksim_ON</td>\n",
       "      <td>Продовження культової серії, було зіпсоване че...</td>\n",
       "      <td>expanded</td>\n",
       "      <td>2021-03-17</td>\n",
       "      <td>Ukrainian</td>\n",
       "      <td>2</td>\n",
       "      <td>2</td>\n",
       "      <td>2</td>\n",
       "    </tr>\n",
       "    <tr>\n",
       "      <th>1</th>\n",
       "      <td>Araset</td>\n",
       "      <td>Well, it's most definetly sheeet and peess and...</td>\n",
       "      <td>expanded</td>\n",
       "      <td>2021-03-16</td>\n",
       "      <td>English</td>\n",
       "      <td>2</td>\n",
       "      <td>2</td>\n",
       "      <td>1</td>\n",
       "    </tr>\n",
       "    <tr>\n",
       "      <th>2</th>\n",
       "      <td>realistyalanci</td>\n",
       "      <td>Pathetic.,Disappointment. Inconsistency.,Cring...</td>\n",
       "      <td>expanded</td>\n",
       "      <td>2021-03-16</td>\n",
       "      <td>English</td>\n",
       "      <td>3</td>\n",
       "      <td>3</td>\n",
       "      <td>0</td>\n",
       "    </tr>\n",
       "    <tr>\n",
       "      <th>3</th>\n",
       "      <td>Cliente</td>\n",
       "      <td>A maior traição que eu já vi na minha vida do ...</td>\n",
       "      <td>normal</td>\n",
       "      <td>2021-03-15</td>\n",
       "      <td>Portuguese</td>\n",
       "      <td>3</td>\n",
       "      <td>3</td>\n",
       "      <td>0</td>\n",
       "    </tr>\n",
       "    <tr>\n",
       "      <th>4</th>\n",
       "      <td>wingZero21</td>\n",
       "      <td>I really enjoyed the first game. It was a 10/1...</td>\n",
       "      <td>normal</td>\n",
       "      <td>2021-03-14</td>\n",
       "      <td>English</td>\n",
       "      <td>2</td>\n",
       "      <td>2</td>\n",
       "      <td>6</td>\n",
       "    </tr>\n",
       "  </tbody>\n",
       "</table>\n",
       "</div>"
      ],
      "text/plain": [
       "               id                                             review  \\\n",
       "0       Maksim_ON  Продовження культової серії, було зіпсоване че...   \n",
       "1          Araset  Well, it's most definetly sheeet and peess and...   \n",
       "2  realistyalanci  Pathetic.,Disappointment. Inconsistency.,Cring...   \n",
       "3         Cliente  A maior traição que eu já vi na minha vida do ...   \n",
       "4      wingZero21  I really enjoyed the first game. It was a 10/1...   \n",
       "\n",
       "  type_review        date    language  views  votes  score  \n",
       "0    expanded  2021-03-17   Ukrainian      2      2      2  \n",
       "1    expanded  2021-03-16     English      2      2      1  \n",
       "2    expanded  2021-03-16     English      3      3      0  \n",
       "3      normal  2021-03-15  Portuguese      3      3      0  \n",
       "4      normal  2021-03-14     English      2      2      6  "
      ]
     },
     "execution_count": 184,
     "metadata": {},
     "output_type": "execute_result"
    }
   ],
   "source": [
    "df=pd.read_csv(\"user_reviews_g2.csv\",dtype={'id':str,\n",
    "                                            'review':str,\n",
    "                                            'type_review':str,\n",
    "                                            'language':str,\n",
    "                                            'date':str,\n",
    "                                            'views':int,\n",
    "                                            'votes':int,\n",
    "                                            'score':int})\n",
    "df.head()"
   ]
  },
  {
   "cell_type": "code",
   "execution_count": 185,
   "metadata": {},
   "outputs": [
    {
     "data": {
      "text/plain": [
       "id             24209\n",
       "review         24209\n",
       "type_review    24209\n",
       "date           24209\n",
       "language       24209\n",
       "views          24209\n",
       "votes          24209\n",
       "score          24209\n",
       "dtype: int64"
      ]
     },
     "execution_count": 185,
     "metadata": {},
     "output_type": "execute_result"
    }
   ],
   "source": [
    "df_eng = df.loc[(df[\"language\"]=='English')]\n",
    "df_eng.count()"
   ]
  },
  {
   "cell_type": "code",
   "execution_count": 186,
   "metadata": {},
   "outputs": [
    {
     "name": "stdout",
     "output_type": "stream",
     "text": [
      "Simply the best game of the generation and one of the best games ever made that's all\n",
      "10\n"
     ]
    }
   ],
   "source": [
    "print(df_eng.iloc[10][\"review\"])\n",
    "print(df_eng.iloc[10][\"score\"])"
   ]
  },
  {
   "cell_type": "code",
   "execution_count": 187,
   "metadata": {},
   "outputs": [
    {
     "data": {
      "text/html": [
       "<div>\n",
       "<style scoped>\n",
       "    .dataframe tbody tr th:only-of-type {\n",
       "        vertical-align: middle;\n",
       "    }\n",
       "\n",
       "    .dataframe tbody tr th {\n",
       "        vertical-align: top;\n",
       "    }\n",
       "\n",
       "    .dataframe thead th {\n",
       "        text-align: right;\n",
       "    }\n",
       "</style>\n",
       "<table border=\"1\" class=\"dataframe\">\n",
       "  <thead>\n",
       "    <tr style=\"text-align: right;\">\n",
       "      <th></th>\n",
       "      <th>review</th>\n",
       "      <th>score</th>\n",
       "    </tr>\n",
       "  </thead>\n",
       "  <tbody>\n",
       "    <tr>\n",
       "      <th>1</th>\n",
       "      <td>Well, it's most definetly sheeet and peess and...</td>\n",
       "      <td>1</td>\n",
       "    </tr>\n",
       "    <tr>\n",
       "      <th>2</th>\n",
       "      <td>Pathetic.,Disappointment. Inconsistency.,Cring...</td>\n",
       "      <td>0</td>\n",
       "    </tr>\n",
       "    <tr>\n",
       "      <th>4</th>\n",
       "      <td>I really enjoyed the first game. It was a 10/1...</td>\n",
       "      <td>6</td>\n",
       "    </tr>\n",
       "    <tr>\n",
       "      <th>5</th>\n",
       "      <td>This game is a very sad destruction of an amaz...</td>\n",
       "      <td>0</td>\n",
       "    </tr>\n",
       "    <tr>\n",
       "      <th>7</th>\n",
       "      <td>It’s a different game from part one, not bad o...</td>\n",
       "      <td>2</td>\n",
       "    </tr>\n",
       "  </tbody>\n",
       "</table>\n",
       "</div>"
      ],
      "text/plain": [
       "                                              review  score\n",
       "1  Well, it's most definetly sheeet and peess and...      1\n",
       "2  Pathetic.,Disappointment. Inconsistency.,Cring...      0\n",
       "4  I really enjoyed the first game. It was a 10/1...      6\n",
       "5  This game is a very sad destruction of an amaz...      0\n",
       "7  It’s a different game from part one, not bad o...      2"
      ]
     },
     "execution_count": 187,
     "metadata": {},
     "output_type": "execute_result"
    }
   ],
   "source": [
    "# Get just reviews and score\n",
    "reviews_df=df_eng[['review','score']]\n",
    "reviews_df.head()"
   ]
  },
  {
   "cell_type": "code",
   "execution_count": 188,
   "metadata": {},
   "outputs": [
    {
     "data": {
      "text/plain": [
       "(-0.011, 3.333]    11922\n",
       "(6.667, 10.0]      10608\n",
       "(3.333, 6.667]      1679\n",
       "Name: score, dtype: int64"
      ]
     },
     "execution_count": 188,
     "metadata": {},
     "output_type": "execute_result"
    }
   ],
   "source": [
    "reviews_df[\"score\"].value_counts(bins=3)"
   ]
  },
  {
   "cell_type": "code",
   "execution_count": 189,
   "metadata": {},
   "outputs": [
    {
     "name": "stderr",
     "output_type": "stream",
     "text": [
      "/opt/anaconda3/lib/python3.7/site-packages/ipykernel_launcher.py:9: SettingWithCopyWarning: \n",
      "A value is trying to be set on a copy of a slice from a DataFrame.\n",
      "Try using .loc[row_indexer,col_indexer] = value instead\n",
      "\n",
      "See the caveats in the documentation: https://pandas.pydata.org/pandas-docs/stable/user_guide/indexing.html#returning-a-view-versus-a-copy\n",
      "  if __name__ == '__main__':\n"
     ]
    },
    {
     "data": {
      "text/html": [
       "<div>\n",
       "<style scoped>\n",
       "    .dataframe tbody tr th:only-of-type {\n",
       "        vertical-align: middle;\n",
       "    }\n",
       "\n",
       "    .dataframe tbody tr th {\n",
       "        vertical-align: top;\n",
       "    }\n",
       "\n",
       "    .dataframe thead th {\n",
       "        text-align: right;\n",
       "    }\n",
       "</style>\n",
       "<table border=\"1\" class=\"dataframe\">\n",
       "  <thead>\n",
       "    <tr style=\"text-align: right;\">\n",
       "      <th></th>\n",
       "      <th>review</th>\n",
       "      <th>score</th>\n",
       "      <th>Score</th>\n",
       "    </tr>\n",
       "  </thead>\n",
       "  <tbody>\n",
       "    <tr>\n",
       "      <th>1</th>\n",
       "      <td>Well, it's most definetly sheeet and peess and...</td>\n",
       "      <td>1</td>\n",
       "      <td>NEGATIVE</td>\n",
       "    </tr>\n",
       "    <tr>\n",
       "      <th>2</th>\n",
       "      <td>Pathetic.,Disappointment. Inconsistency.,Cring...</td>\n",
       "      <td>0</td>\n",
       "      <td>NEGATIVE</td>\n",
       "    </tr>\n",
       "    <tr>\n",
       "      <th>4</th>\n",
       "      <td>I really enjoyed the first game. It was a 10/1...</td>\n",
       "      <td>6</td>\n",
       "      <td>NEUTRAL</td>\n",
       "    </tr>\n",
       "    <tr>\n",
       "      <th>5</th>\n",
       "      <td>This game is a very sad destruction of an amaz...</td>\n",
       "      <td>0</td>\n",
       "      <td>NEGATIVE</td>\n",
       "    </tr>\n",
       "    <tr>\n",
       "      <th>7</th>\n",
       "      <td>It’s a different game from part one, not bad o...</td>\n",
       "      <td>2</td>\n",
       "      <td>NEGATIVE</td>\n",
       "    </tr>\n",
       "  </tbody>\n",
       "</table>\n",
       "</div>"
      ],
      "text/plain": [
       "                                              review  score     Score\n",
       "1  Well, it's most definetly sheeet and peess and...      1  NEGATIVE\n",
       "2  Pathetic.,Disappointment. Inconsistency.,Cring...      0  NEGATIVE\n",
       "4  I really enjoyed the first game. It was a 10/1...      6   NEUTRAL\n",
       "5  This game is a very sad destruction of an amaz...      0  NEGATIVE\n",
       "7  It’s a different game from part one, not bad o...      2  NEGATIVE"
      ]
     },
     "execution_count": 189,
     "metadata": {},
     "output_type": "execute_result"
    }
   ],
   "source": [
    "def score_change(score):\n",
    "    if score <= 3:\n",
    "        return 'NEGATIVE'\n",
    "    elif 4<=score<=6:\n",
    "        return 'NEUTRAL'\n",
    "    else:\n",
    "        return 'POSITIVE'\n",
    "\n",
    "reviews_df[\"Score\"] = reviews_df['score'].apply(lambda x:score_change(x))\n",
    "reviews_df.head()"
   ]
  },
  {
   "cell_type": "code",
   "execution_count": 190,
   "metadata": {},
   "outputs": [
    {
     "name": "stderr",
     "output_type": "stream",
     "text": [
      "/opt/anaconda3/lib/python3.7/site-packages/ipykernel_launcher.py:1: SettingWithCopyWarning: \n",
      "A value is trying to be set on a copy of a slice from a DataFrame.\n",
      "Try using .loc[row_indexer,col_indexer] = value instead\n",
      "\n",
      "See the caveats in the documentation: https://pandas.pydata.org/pandas-docs/stable/user_guide/indexing.html#returning-a-view-versus-a-copy\n",
      "  \"\"\"Entry point for launching an IPython kernel.\n"
     ]
    },
    {
     "data": {
      "text/html": [
       "<div>\n",
       "<style scoped>\n",
       "    .dataframe tbody tr th:only-of-type {\n",
       "        vertical-align: middle;\n",
       "    }\n",
       "\n",
       "    .dataframe tbody tr th {\n",
       "        vertical-align: top;\n",
       "    }\n",
       "\n",
       "    .dataframe thead th {\n",
       "        text-align: right;\n",
       "    }\n",
       "</style>\n",
       "<table border=\"1\" class=\"dataframe\">\n",
       "  <thead>\n",
       "    <tr style=\"text-align: right;\">\n",
       "      <th></th>\n",
       "      <th>review</th>\n",
       "      <th>score</th>\n",
       "      <th>Score</th>\n",
       "      <th>review_len</th>\n",
       "    </tr>\n",
       "  </thead>\n",
       "  <tbody>\n",
       "    <tr>\n",
       "      <th>1</th>\n",
       "      <td>Well, it's most definetly sheeet and peess and...</td>\n",
       "      <td>1</td>\n",
       "      <td>NEGATIVE</td>\n",
       "      <td>64</td>\n",
       "    </tr>\n",
       "    <tr>\n",
       "      <th>2</th>\n",
       "      <td>Pathetic.,Disappointment. Inconsistency.,Cring...</td>\n",
       "      <td>0</td>\n",
       "      <td>NEGATIVE</td>\n",
       "      <td>104</td>\n",
       "    </tr>\n",
       "    <tr>\n",
       "      <th>4</th>\n",
       "      <td>I really enjoyed the first game. It was a 10/1...</td>\n",
       "      <td>6</td>\n",
       "      <td>NEUTRAL</td>\n",
       "      <td>2049</td>\n",
       "    </tr>\n",
       "    <tr>\n",
       "      <th>5</th>\n",
       "      <td>This game is a very sad destruction of an amaz...</td>\n",
       "      <td>0</td>\n",
       "      <td>NEGATIVE</td>\n",
       "      <td>341</td>\n",
       "    </tr>\n",
       "    <tr>\n",
       "      <th>7</th>\n",
       "      <td>It’s a different game from part one, not bad o...</td>\n",
       "      <td>2</td>\n",
       "      <td>NEGATIVE</td>\n",
       "      <td>92</td>\n",
       "    </tr>\n",
       "  </tbody>\n",
       "</table>\n",
       "</div>"
      ],
      "text/plain": [
       "                                              review  score     Score  \\\n",
       "1  Well, it's most definetly sheeet and peess and...      1  NEGATIVE   \n",
       "2  Pathetic.,Disappointment. Inconsistency.,Cring...      0  NEGATIVE   \n",
       "4  I really enjoyed the first game. It was a 10/1...      6   NEUTRAL   \n",
       "5  This game is a very sad destruction of an amaz...      0  NEGATIVE   \n",
       "7  It’s a different game from part one, not bad o...      2  NEGATIVE   \n",
       "\n",
       "   review_len  \n",
       "1          64  \n",
       "2         104  \n",
       "4        2049  \n",
       "5         341  \n",
       "7          92  "
      ]
     },
     "execution_count": 190,
     "metadata": {},
     "output_type": "execute_result"
    }
   ],
   "source": [
    "reviews_df['review_len'] = reviews_df['review'].apply(lambda x: len(x) - x.count(\" \"))\n",
    "\n",
    "reviews_df.head()"
   ]
  },
  {
   "cell_type": "code",
   "execution_count": 191,
   "metadata": {},
   "outputs": [
    {
     "name": "stderr",
     "output_type": "stream",
     "text": [
      "/opt/anaconda3/lib/python3.7/site-packages/ipykernel_launcher.py:7: SettingWithCopyWarning: \n",
      "A value is trying to be set on a copy of a slice from a DataFrame.\n",
      "Try using .loc[row_indexer,col_indexer] = value instead\n",
      "\n",
      "See the caveats in the documentation: https://pandas.pydata.org/pandas-docs/stable/user_guide/indexing.html#returning-a-view-versus-a-copy\n",
      "  import sys\n"
     ]
    },
    {
     "data": {
      "text/html": [
       "<div>\n",
       "<style scoped>\n",
       "    .dataframe tbody tr th:only-of-type {\n",
       "        vertical-align: middle;\n",
       "    }\n",
       "\n",
       "    .dataframe tbody tr th {\n",
       "        vertical-align: top;\n",
       "    }\n",
       "\n",
       "    .dataframe thead th {\n",
       "        text-align: right;\n",
       "    }\n",
       "</style>\n",
       "<table border=\"1\" class=\"dataframe\">\n",
       "  <thead>\n",
       "    <tr style=\"text-align: right;\">\n",
       "      <th></th>\n",
       "      <th>review</th>\n",
       "      <th>score</th>\n",
       "      <th>Score</th>\n",
       "      <th>review_len</th>\n",
       "      <th>punct%</th>\n",
       "    </tr>\n",
       "  </thead>\n",
       "  <tbody>\n",
       "    <tr>\n",
       "      <th>1</th>\n",
       "      <td>Well, it's most definetly sheeet and peess and...</td>\n",
       "      <td>1</td>\n",
       "      <td>NEGATIVE</td>\n",
       "      <td>64</td>\n",
       "      <td>4.7</td>\n",
       "    </tr>\n",
       "    <tr>\n",
       "      <th>2</th>\n",
       "      <td>Pathetic.,Disappointment. Inconsistency.,Cring...</td>\n",
       "      <td>0</td>\n",
       "      <td>NEGATIVE</td>\n",
       "      <td>104</td>\n",
       "      <td>9.6</td>\n",
       "    </tr>\n",
       "    <tr>\n",
       "      <th>4</th>\n",
       "      <td>I really enjoyed the first game. It was a 10/1...</td>\n",
       "      <td>6</td>\n",
       "      <td>NEUTRAL</td>\n",
       "      <td>2049</td>\n",
       "      <td>2.8</td>\n",
       "    </tr>\n",
       "    <tr>\n",
       "      <th>5</th>\n",
       "      <td>This game is a very sad destruction of an amaz...</td>\n",
       "      <td>0</td>\n",
       "      <td>NEGATIVE</td>\n",
       "      <td>341</td>\n",
       "      <td>1.5</td>\n",
       "    </tr>\n",
       "    <tr>\n",
       "      <th>7</th>\n",
       "      <td>It’s a different game from part one, not bad o...</td>\n",
       "      <td>2</td>\n",
       "      <td>NEGATIVE</td>\n",
       "      <td>92</td>\n",
       "      <td>1.1</td>\n",
       "    </tr>\n",
       "  </tbody>\n",
       "</table>\n",
       "</div>"
      ],
      "text/plain": [
       "                                              review  score     Score  \\\n",
       "1  Well, it's most definetly sheeet and peess and...      1  NEGATIVE   \n",
       "2  Pathetic.,Disappointment. Inconsistency.,Cring...      0  NEGATIVE   \n",
       "4  I really enjoyed the first game. It was a 10/1...      6   NEUTRAL   \n",
       "5  This game is a very sad destruction of an amaz...      0  NEGATIVE   \n",
       "7  It’s a different game from part one, not bad o...      2  NEGATIVE   \n",
       "\n",
       "   review_len  punct%  \n",
       "1          64     4.7  \n",
       "2         104     9.6  \n",
       "4        2049     2.8  \n",
       "5         341     1.5  \n",
       "7          92     1.1  "
      ]
     },
     "execution_count": 191,
     "metadata": {},
     "output_type": "execute_result"
    }
   ],
   "source": [
    "import string\n",
    "\n",
    "def count_punct(text):\n",
    "    count = sum([1 for char in text if char in string.punctuation])\n",
    "    return round(count/(len(text) - text.count(\" \")), 3)*100\n",
    "\n",
    "reviews_df['punct%'] = reviews_df['review'].apply(lambda x: count_punct(x))\n",
    "\n",
    "reviews_df.head()"
   ]
  },
  {
   "cell_type": "code",
   "execution_count": 192,
   "metadata": {},
   "outputs": [],
   "source": [
    "from matplotlib import pyplot\n",
    "import numpy as np\n",
    "%matplotlib inline"
   ]
  },
  {
   "cell_type": "code",
   "execution_count": 193,
   "metadata": {},
   "outputs": [
    {
     "name": "stdout",
     "output_type": "stream",
     "text": [
      "4164\n",
      "91.3\n"
     ]
    }
   ],
   "source": [
    "print(reviews_df['review_len'].max())\n",
    "print(reviews_df['punct%'].max())"
   ]
  },
  {
   "cell_type": "code",
   "execution_count": 194,
   "metadata": {},
   "outputs": [
    {
     "data": {
      "image/png": "[encoded data removed]",
      "text/plain": [
       "<Figure size 432x288 with 1 Axes>"
      ]
     },
     "metadata": {
      "needs_background": "light"
     },
     "output_type": "display_data"
    }
   ],
   "source": [
    "bins = np.linspace(0, 4200, 40)\n",
    "\n",
    "pyplot.hist(reviews_df[reviews_df['Score']=='NEGATIVE']['review_len'], bins, alpha=0.5, density=True, label='negative')\n",
    "pyplot.hist(reviews_df[reviews_df['Score']=='POSITIVE']['review_len'], bins, alpha=0.5, density=True, label='positive')\n",
    "pyplot.hist(reviews_df[reviews_df['Score']=='NEUTRAL']['review_len'], bins, alpha=0.5, density=True, label='neutral')\n",
    "pyplot.legend(loc='upper right')\n",
    "pyplot.show()"
   ]
  },
  {
   "cell_type": "code",
   "execution_count": 195,
   "metadata": {},
   "outputs": [
    {
     "data": {
      "image/png": "[encoded data removed]",
      "text/plain": [
       "<Figure size 432x288 with 1 Axes>"
      ]
     },
     "metadata": {
      "needs_background": "light"
     },
     "output_type": "display_data"
    }
   ],
   "source": [
    "bins = np.linspace(0, 100, 40)\n",
    "\n",
    "pyplot.hist(reviews_df[reviews_df['Score']=='NEGATIVE']['punct%'], bins, alpha=0.5, density=True, label='negative')\n",
    "pyplot.hist(reviews_df[reviews_df['Score']=='POSITIVE']['punct%'], bins, alpha=0.5, density=True, label='positive')\n",
    "pyplot.hist(reviews_df[reviews_df['Score']=='NEUTRAL']['punct%'], bins, alpha=0.5, density=True, label='neutral')\n",
    "pyplot.legend(loc='upper right')\n",
    "pyplot.show()"
   ]
  },
  {
   "cell_type": "markdown",
   "metadata": {},
   "source": [
    "# Remove punctuation and stopwords"
   ]
  },
  {
   "cell_type": "code",
   "execution_count": 196,
   "metadata": {},
   "outputs": [],
   "source": [
    "import string\n",
    "import re\n",
    "import nltk\n",
    "def clean_data(text):\n",
    "    text_nopunct = \"\".join([char for char in text if char not in string.punctuation])\n",
    "    tokens = re.split('\\W+', text_nopunct)\n",
    "    text = [word for word in tokens if word not in stopword]\n",
    "    #text2 = [wn.lemmatize(word) for word in text]\n",
    "    return text"
   ]
  },
  {
   "cell_type": "code",
   "execution_count": 141,
   "metadata": {},
   "outputs": [
    {
     "data": {
      "text/plain": [
       "(24209, 57253)"
      ]
     },
     "execution_count": 141,
     "metadata": {},
     "output_type": "execute_result"
    }
   ],
   "source": [
    "from sklearn.feature_extraction.text import CountVectorizer, TfidfVectorizer\n",
    "\n",
    "vectorizer = TfidfVectorizer(analyzer=clean_data)\n",
    "x_vectors = vectorizer.fit_transform(reviews_df['review'])\n",
    "x_vectors.shape"
   ]
  },
  {
   "cell_type": "code",
   "execution_count": 151,
   "metadata": {},
   "outputs": [],
   "source": [
    "from sklearn.model_selection import train_test_split\n",
    "\n",
    "train_x, test_x, train_y, test_y = train_test_split(x_vectors,reviews_df.Score,test_size=0.2,stratify=reviews_df.Score,random_state=42)"
   ]
  },
  {
   "cell_type": "code",
   "execution_count": null,
   "metadata": {},
   "outputs": [],
   "source": []
  },
  {
   "cell_type": "code",
   "execution_count": 197,
   "metadata": {},
   "outputs": [],
   "source": [
    "from sklearn.model_selection import train_test_split\n",
    "\n",
    "train_x, test_x, train_y, test_y = train_test_split(reviews_df.review,reviews_df.Score,test_size=0.2,stratify=reviews_df.Score,random_state=42)"
   ]
  },
  {
   "cell_type": "code",
   "execution_count": 199,
   "metadata": {},
   "outputs": [],
   "source": [
    "from sklearn.feature_extraction.text import TfidfVectorizer\n",
    "\n",
    "tfidf_vect = TfidfVectorizer(analyzer=clean_data)\n",
    "tfidf_vect_fit = tfidf_vect.fit(train_x)\n",
    "\n",
    "tfidf_train = tfidf_vect_fit.transform(train_x)\n",
    "tfidf_test = tfidf_vect_fit.transform(test_x)"
   ]
  },
  {
   "cell_type": "markdown",
   "metadata": {},
   "source": [
    "# Classification"
   ]
  },
  {
   "cell_type": "code",
   "execution_count": 152,
   "metadata": {},
   "outputs": [],
   "source": [
    "#SVM"
   ]
  },
  {
   "cell_type": "code",
   "execution_count": 200,
   "metadata": {},
   "outputs": [],
   "source": [
    "from sklearn import svm\n",
    "\n",
    "clf_svm = svm.SVC(kernel='rbf')"
   ]
  },
  {
   "cell_type": "code",
   "execution_count": 201,
   "metadata": {},
   "outputs": [
    {
     "data": {
      "text/plain": [
       "SVC(C=1.0, break_ties=False, cache_size=200, class_weight=None, coef0=0.0,\n",
       "    decision_function_shape='ovr', degree=3, gamma='scale', kernel='rbf',\n",
       "    max_iter=-1, probability=False, random_state=None, shrinking=True,\n",
       "    tol=0.001, verbose=False)"
      ]
     },
     "execution_count": 201,
     "metadata": {},
     "output_type": "execute_result"
    }
   ],
   "source": [
    "clf_svm.fit(tfidf_train, train_y)"
   ]
  },
  {
   "cell_type": "code",
   "execution_count": 202,
   "metadata": {},
   "outputs": [
    {
     "data": {
      "text/plain": [
       "0.859149111937216"
      ]
     },
     "execution_count": 202,
     "metadata": {},
     "output_type": "execute_result"
    }
   ],
   "source": [
    "from sklearn.metrics import accuracy_score\n",
    "\n",
    "predictions_svm = clf_svm.predict(tfidf_test)\n",
    "accuracy_score(test_y, predictions_svm)"
   ]
  },
  {
   "cell_type": "code",
   "execution_count": 203,
   "metadata": {},
   "outputs": [
    {
     "name": "stdout",
     "output_type": "stream",
     "text": [
      "              precision    recall  f1-score   support\n",
      "\n",
      "    negative       0.83      0.94      0.88      2384\n",
      "     neutral       0.88      0.02      0.04       336\n",
      "    positive       0.90      0.91      0.90      2122\n",
      "\n",
      "    accuracy                           0.86      4842\n",
      "   macro avg       0.87      0.62      0.61      4842\n",
      "weighted avg       0.86      0.86      0.83      4842\n",
      "\n"
     ]
    }
   ],
   "source": [
    "from sklearn.metrics import classification_report\n",
    "print(classification_report(test_y, predictions_svm, target_names=['negative','neutral','positive']))"
   ]
  },
  {
   "cell_type": "code",
   "execution_count": 204,
   "metadata": {},
   "outputs": [],
   "source": [
    "test_set = ['the game was alright, very average in my opinion',\"i didn't like the story very much at all, it was weak and a had a shadow of depth compared to the original\",'lots of fun, had a great time']\n",
    "x_examples = tfidf_vect.transform(test_set)"
   ]
  },
  {
   "cell_type": "code",
   "execution_count": 205,
   "metadata": {},
   "outputs": [
    {
     "data": {
      "text/plain": [
       "array(['POSITIVE', 'NEGATIVE', 'POSITIVE'], dtype=object)"
      ]
     },
     "execution_count": 205,
     "metadata": {},
     "output_type": "execute_result"
    }
   ],
   "source": [
    "clf_svm.predict(x_examples)"
   ]
  },
  {
   "cell_type": "code",
   "execution_count": null,
   "metadata": {},
   "outputs": [],
   "source": []
  },
  {
   "cell_type": "code",
   "execution_count": 209,
   "metadata": {},
   "outputs": [],
   "source": [
    "from sklearn.ensemble import RandomForestClassifier\n",
    "rf = RandomForestClassifier(n_estimators=150,n_jobs=-1)\n",
    "rf_model = rf.fit(tfidf_train, train_y)"
   ]
  },
  {
   "cell_type": "code",
   "execution_count": 210,
   "metadata": {},
   "outputs": [
    {
     "data": {
      "text/plain": [
       "0.8314745972738538"
      ]
     },
     "execution_count": 210,
     "metadata": {},
     "output_type": "execute_result"
    }
   ],
   "source": [
    "predictions_rf = rf_model.predict(tfidf_test)\n",
    "accuracy_score(test_y, predictions_rf)"
   ]
  },
  {
   "cell_type": "code",
   "execution_count": null,
   "metadata": {},
   "outputs": [],
   "source": []
  }
 ],
 "metadata": {
  "kernelspec": {
   "display_name": "Python 3",
   "language": "python",
   "name": "python3"
  },
  "language_info": {
   "codemirror_mode": {
    "name": "ipython",
    "version": 3
   },
   "file_extension": ".py",
   "mimetype": "text/x-python",
   "name": "python",
   "nbconvert_exporter": "python",
   "pygments_lexer": "ipython3",
   "version": "3.7.6"
  }
 },
 "nbformat": 4,
 "nbformat_minor": 4
}
